{
  "nbformat": 4,
  "nbformat_minor": 0,
  "metadata": {
    "colab": {
      "name": "Stackoverflow data analytics in Colab",
      "provenance": [],
      "authorship_tag": "ABX9TyMib1vGGLVboE4kKo4mR+3Z",
      "include_colab_link": true
    },
    "kernelspec": {
      "name": "python3",
      "display_name": "Python 3"
    }
  },
  "cells": [
    {
      "cell_type": "markdown",
      "metadata": {
        "id": "view-in-github",
        "colab_type": "text"
      },
      "source": [
        "<a href=\"https://colab.research.google.com/github/mdivk/colab/blob/master/Stackoverflow_data_analytics_in_Colab.ipynb\" target=\"_parent\"><img src=\"https://colab.research.google.com/assets/colab-badge.svg\" alt=\"Open In Colab\"/></a>"
      ]
    },
    {
      "cell_type": "code",
      "metadata": {
        "id": "_KcGGeEt40PK",
        "colab_type": "code",
        "colab": {
          "base_uri": "https://localhost:8080/",
          "height": 34
        },
        "outputId": "e87b1553-9cc4-42d0-fb10-07caaf2ed1d3"
      },
      "source": [
        "!python --version"
      ],
      "execution_count": 2,
      "outputs": [
        {
          "output_type": "stream",
          "text": [
            "Python 3.6.9\n"
          ],
          "name": "stdout"
        }
      ]
    },
    {
      "cell_type": "code",
      "metadata": {
        "id": "PDjH95zk4c32",
        "colab_type": "code",
        "colab": {
          "base_uri": "https://localhost:8080/",
          "height": 34
        },
        "outputId": "50e71e2f-f252-405a-d2b6-62dc9b39ed74"
      },
      "source": [
        "from google.colab import auth\n",
        "auth.authenticate_user()\n",
        "print('Authenticated')"
      ],
      "execution_count": 4,
      "outputs": [
        {
          "output_type": "stream",
          "text": [
            "Authenticated\n"
          ],
          "name": "stdout"
        }
      ]
    },
    {
      "cell_type": "code",
      "metadata": {
        "id": "e0kPqzTZ48rp",
        "colab_type": "code",
        "colab": {}
      },
      "source": [
        "%load_ext google.colab.data_table"
      ],
      "execution_count": 0,
      "outputs": []
    },
    {
      "cell_type": "code",
      "metadata": {
        "id": "2851NAqR6PpK",
        "colab_type": "code",
        "colab": {
          "base_uri": "https://localhost:8080/",
          "height": 110
        },
        "outputId": "b73ce138-8660-46f9-a422-30dc242dd74c"
      },
      "source": [
        "%%bigquery --project welynx\n",
        "SELECT \n",
        "  COUNT(*) as total_rows\n",
        "FROM `bigquery-public-data.stackoverflow.users`"
      ],
      "execution_count": 7,
      "outputs": [
        {
          "output_type": "execute_result",
          "data": {
            "application/vnd.google.colaboratory.module+javascript": "\n      import \"https://ssl.gstatic.com/colaboratory/data_table/84ef27dae82052e3/data_table.js\";\n\n      window.createDataTable({\n        data: [[{\n            'v': 0,\n            'f': \"0\",\n        },\n{\n            'v': 11376305,\n            'f': \"11376305\",\n        }]],\n        columns: [[\"number\", \"index\"], [\"number\", \"total_rows\"]],\n        columnOptions: [{\"width\": \"1px\", \"className\": \"index_column\"}],\n        rowsPerPage: 25,\n        helpUrl: \"https://colab.research.google.com/notebooks/data_table.ipynb\",\n        suppressOutputScrolling: false,\n      });\n    ",
            "text/html": [
              "<div>\n",
              "<style scoped>\n",
              "    .dataframe tbody tr th:only-of-type {\n",
              "        vertical-align: middle;\n",
              "    }\n",
              "\n",
              "    .dataframe tbody tr th {\n",
              "        vertical-align: top;\n",
              "    }\n",
              "\n",
              "    .dataframe thead th {\n",
              "        text-align: right;\n",
              "    }\n",
              "</style>\n",
              "<table border=\"1\" class=\"dataframe\">\n",
              "  <thead>\n",
              "    <tr style=\"text-align: right;\">\n",
              "      <th></th>\n",
              "      <th>total_rows</th>\n",
              "    </tr>\n",
              "  </thead>\n",
              "  <tbody>\n",
              "    <tr>\n",
              "      <th>0</th>\n",
              "      <td>11376305</td>\n",
              "    </tr>\n",
              "  </tbody>\n",
              "</table>\n",
              "</div>"
            ],
            "text/plain": [
              "   total_rows\n",
              "0    11376305"
            ]
          },
          "metadata": {
            "tags": []
          },
          "execution_count": 7
        }
      ]
    },
    {
      "cell_type": "code",
      "metadata": {
        "id": "qJp8N9Tj6ZCo",
        "colab_type": "code",
        "colab": {}
      },
      "source": [
        "project = 'welynx'"
      ],
      "execution_count": 0,
      "outputs": []
    },
    {
      "cell_type": "code",
      "metadata": {
        "id": "349aJIEh7Cy1",
        "colab_type": "code",
        "colab": {}
      },
      "source": [
        "from google.cloud import bigquery\n"
      ],
      "execution_count": 0,
      "outputs": []
    },
    {
      "cell_type": "code",
      "metadata": {
        "id": "oCxAuvtC7HXy",
        "colab_type": "code",
        "colab": {}
      },
      "source": [
        "client = bigquery.Client(project=project)"
      ],
      "execution_count": 0,
      "outputs": []
    },
    {
      "cell_type": "code",
      "metadata": {
        "id": "uIjV7TOK7K-s",
        "colab_type": "code",
        "colab": {}
      },
      "source": [
        "sample_count = 2000"
      ],
      "execution_count": 0,
      "outputs": []
    },
    {
      "cell_type": "code",
      "metadata": {
        "id": "Wm7EzjQL7OEj",
        "colab_type": "code",
        "colab": {}
      },
      "source": [
        "q = \"SELECT COUNT(*) as total FROM `bigquery-public-data.stackoverflow.users`\""
      ],
      "execution_count": 0,
      "outputs": []
    },
    {
      "cell_type": "code",
      "metadata": {
        "id": "y_HcSky97YwQ",
        "colab_type": "code",
        "colab": {}
      },
      "source": [
        "row_count = client.query(q).to_dataframe().total[0]"
      ],
      "execution_count": 0,
      "outputs": []
    },
    {
      "cell_type": "code",
      "metadata": {
        "id": "-6GJF7UA7qHY",
        "colab_type": "code",
        "colab": {
          "base_uri": "https://localhost:8080/",
          "height": 34
        },
        "outputId": "8495979e-9fcf-429d-f84f-29bab7d272a9"
      },
      "source": [
        "row_count"
      ],
      "execution_count": 16,
      "outputs": [
        {
          "output_type": "execute_result",
          "data": {
            "text/plain": [
              "11376305"
            ]
          },
          "metadata": {
            "tags": []
          },
          "execution_count": 16
        }
      ]
    },
    {
      "cell_type": "code",
      "metadata": {
        "id": "_ulDzmSy7r8w",
        "colab_type": "code",
        "colab": {}
      },
      "source": [
        "q_sample = \"SELECT * FROM `bigquery-public-data.stackoverflow.users` WHERE RAND() < %d/%d\""
      ],
      "execution_count": 0,
      "outputs": []
    },
    {
      "cell_type": "code",
      "metadata": {
        "id": "yLDr2uT68DwL",
        "colab_type": "code",
        "colab": {}
      },
      "source": [
        "df = client.query(q_sample % (sample_count, row_count)).to_dataframe()"
      ],
      "execution_count": 0,
      "outputs": []
    },
    {
      "cell_type": "code",
      "metadata": {
        "id": "ykve5IIk8VkM",
        "colab_type": "code",
        "colab": {
          "base_uri": "https://localhost:8080/",
          "height": 257
        },
        "outputId": "41442db6-68e4-4929-ff64-d81d659bc6ad"
      },
      "source": [
        "df.describe()"
      ],
      "execution_count": 20,
      "outputs": [
        {
          "output_type": "execute_result",
          "data": {
            "application/vnd.google.colaboratory.module+javascript": "\n      import \"https://ssl.gstatic.com/colaboratory/data_table/84ef27dae82052e3/data_table.js\";\n\n      window.createDataTable({\n        data: [[\"count\",\n{\n            'v': 1888.0,\n            'f': \"1888.0\",\n        },\n{\n            'v': 1888.0,\n            'f': \"1888.0\",\n        },\n{\n            'v': 1888.0,\n            'f': \"1888.0\",\n        },\n{\n            'v': 1888.0,\n            'f': \"1888.0\",\n        },\n{\n            'v': 1888.0,\n            'f': \"1888.0\",\n        }],\n [\"mean\",\n{\n            'v': 6499521.680084745,\n            'f': \"6499521.680084745\",\n        },\n{\n            'v': 150.87923728813558,\n            'f': \"150.87923728813558\",\n        },\n{\n            'v': 14.309322033898304,\n            'f': \"14.309322033898304\",\n        },\n{\n            'v': 0.895656779661017,\n            'f': \"0.895656779661017\",\n        },\n{\n            'v': 18.61175847457627,\n            'f': \"18.61175847457627\",\n        }],\n [\"std\",\n{\n            'v': 3519771.289118361,\n            'f': \"3519771.289118361\",\n        },\n{\n            'v': 1757.876040285008,\n            'f': \"1757.876040285008\",\n        },\n{\n            'v': 128.45959354308678,\n            'f': \"128.45959354308678\",\n        },\n{\n            'v': 13.273536641721487,\n            'f': \"13.273536641721487\",\n        },\n{\n            'v': 235.2577299051132,\n            'f': \"235.2577299051132\",\n        }],\n [\"min\",\n{\n            'v': 1911.0,\n            'f': \"1911.0\",\n        },\n{\n            'v': 1.0,\n            'f': \"1.0\",\n        },\n{\n            'v': 0.0,\n            'f': \"0.0\",\n        },\n{\n            'v': 0.0,\n            'f': \"0.0\",\n        },\n{\n            'v': 0.0,\n            'f': \"0.0\",\n        }],\n [\"25%\",\n{\n            'v': 3489734.5,\n            'f': \"3489734.5\",\n        },\n{\n            'v': 1.0,\n            'f': \"1.0\",\n        },\n{\n            'v': 0.0,\n            'f': \"0.0\",\n        },\n{\n            'v': 0.0,\n            'f': \"0.0\",\n        },\n{\n            'v': 0.0,\n            'f': \"0.0\",\n        }],\n [\"50%\",\n{\n            'v': 6539984.5,\n            'f': \"6539984.5\",\n        },\n{\n            'v': 1.0,\n            'f': \"1.0\",\n        },\n{\n            'v': 0.0,\n            'f': \"0.0\",\n        },\n{\n            'v': 0.0,\n            'f': \"0.0\",\n        },\n{\n            'v': 0.0,\n            'f': \"0.0\",\n        }],\n [\"75%\",\n{\n            'v': 9599690.75,\n            'f': \"9599690.75\",\n        },\n{\n            'v': 11.0,\n            'f': \"11.0\",\n        },\n{\n            'v': 0.0,\n            'f': \"0.0\",\n        },\n{\n            'v': 0.0,\n            'f': \"0.0\",\n        },\n{\n            'v': 3.0,\n            'f': \"3.0\",\n        }],\n [\"max\",\n{\n            'v': 12461971.0,\n            'f': \"12461971.0\",\n        },\n{\n            'v': 49757.0,\n            'f': \"49757.0\",\n        },\n{\n            'v': 3391.0,\n            'f': \"3391.0\",\n        },\n{\n            'v': 352.0,\n            'f': \"352.0\",\n        },\n{\n            'v': 7101.0,\n            'f': \"7101.0\",\n        }]],\n        columns: [[\"string\", \"index\"], [\"number\", \"id\"], [\"number\", \"reputation\"], [\"number\", \"up_votes\"], [\"number\", \"down_votes\"], [\"number\", \"views\"]],\n        columnOptions: [{\"width\": \"1px\", \"className\": \"index_column\"}],\n        rowsPerPage: 25,\n        helpUrl: \"https://colab.research.google.com/notebooks/data_table.ipynb\",\n        suppressOutputScrolling: false,\n      });\n    ",
            "text/html": [
              "<div>\n",
              "<style scoped>\n",
              "    .dataframe tbody tr th:only-of-type {\n",
              "        vertical-align: middle;\n",
              "    }\n",
              "\n",
              "    .dataframe tbody tr th {\n",
              "        vertical-align: top;\n",
              "    }\n",
              "\n",
              "    .dataframe thead th {\n",
              "        text-align: right;\n",
              "    }\n",
              "</style>\n",
              "<table border=\"1\" class=\"dataframe\">\n",
              "  <thead>\n",
              "    <tr style=\"text-align: right;\">\n",
              "      <th></th>\n",
              "      <th>id</th>\n",
              "      <th>reputation</th>\n",
              "      <th>up_votes</th>\n",
              "      <th>down_votes</th>\n",
              "      <th>views</th>\n",
              "    </tr>\n",
              "  </thead>\n",
              "  <tbody>\n",
              "    <tr>\n",
              "      <th>count</th>\n",
              "      <td>1.888000e+03</td>\n",
              "      <td>1888.000000</td>\n",
              "      <td>1888.000000</td>\n",
              "      <td>1888.000000</td>\n",
              "      <td>1888.000000</td>\n",
              "    </tr>\n",
              "    <tr>\n",
              "      <th>mean</th>\n",
              "      <td>6.499522e+06</td>\n",
              "      <td>150.879237</td>\n",
              "      <td>14.309322</td>\n",
              "      <td>0.895657</td>\n",
              "      <td>18.611758</td>\n",
              "    </tr>\n",
              "    <tr>\n",
              "      <th>std</th>\n",
              "      <td>3.519771e+06</td>\n",
              "      <td>1757.876040</td>\n",
              "      <td>128.459594</td>\n",
              "      <td>13.273537</td>\n",
              "      <td>235.257730</td>\n",
              "    </tr>\n",
              "    <tr>\n",
              "      <th>min</th>\n",
              "      <td>1.911000e+03</td>\n",
              "      <td>1.000000</td>\n",
              "      <td>0.000000</td>\n",
              "      <td>0.000000</td>\n",
              "      <td>0.000000</td>\n",
              "    </tr>\n",
              "    <tr>\n",
              "      <th>25%</th>\n",
              "      <td>3.489734e+06</td>\n",
              "      <td>1.000000</td>\n",
              "      <td>0.000000</td>\n",
              "      <td>0.000000</td>\n",
              "      <td>0.000000</td>\n",
              "    </tr>\n",
              "    <tr>\n",
              "      <th>50%</th>\n",
              "      <td>6.539984e+06</td>\n",
              "      <td>1.000000</td>\n",
              "      <td>0.000000</td>\n",
              "      <td>0.000000</td>\n",
              "      <td>0.000000</td>\n",
              "    </tr>\n",
              "    <tr>\n",
              "      <th>75%</th>\n",
              "      <td>9.599691e+06</td>\n",
              "      <td>11.000000</td>\n",
              "      <td>0.000000</td>\n",
              "      <td>0.000000</td>\n",
              "      <td>3.000000</td>\n",
              "    </tr>\n",
              "    <tr>\n",
              "      <th>max</th>\n",
              "      <td>1.246197e+07</td>\n",
              "      <td>49757.000000</td>\n",
              "      <td>3391.000000</td>\n",
              "      <td>352.000000</td>\n",
              "      <td>7101.000000</td>\n",
              "    </tr>\n",
              "  </tbody>\n",
              "</table>\n",
              "</div>"
            ],
            "text/plain": [
              "                 id    reputation     up_votes   down_votes        views\n",
              "count  1.888000e+03   1888.000000  1888.000000  1888.000000  1888.000000\n",
              "mean   6.499522e+06    150.879237    14.309322     0.895657    18.611758\n",
              "std    3.519771e+06   1757.876040   128.459594    13.273537   235.257730\n",
              "min    1.911000e+03      1.000000     0.000000     0.000000     0.000000\n",
              "25%    3.489734e+06      1.000000     0.000000     0.000000     0.000000\n",
              "50%    6.539984e+06      1.000000     0.000000     0.000000     0.000000\n",
              "75%    9.599691e+06     11.000000     0.000000     0.000000     3.000000\n",
              "max    1.246197e+07  49757.000000  3391.000000   352.000000  7101.000000"
            ]
          },
          "metadata": {
            "tags": []
          },
          "execution_count": 20
        }
      ]
    },
    {
      "cell_type": "code",
      "metadata": {
        "id": "1cAcl3CG8cF3",
        "colab_type": "code",
        "colab": {
          "base_uri": "https://localhost:8080/",
          "height": 587
        },
        "outputId": "45faf989-dbf9-4939-b1b3-f581222a58c4"
      },
      "source": [
        "df.head(10)"
      ],
      "execution_count": 21,
      "outputs": [
        {
          "output_type": "execute_result",
          "data": {
            "application/vnd.google.colaboratory.module+javascript": "\n      import \"https://ssl.gstatic.com/colaboratory/data_table/84ef27dae82052e3/data_table.js\";\n\n      window.createDataTable({\n        data: [[{\n            'v': 0,\n            'f': \"0\",\n        },\n{\n            'v': 318488,\n            'f': \"318488\",\n        },\n\"Simon Hibbs\",\n\"<p>Application Support Engineer in the financial services industry.\\nPython scripter,\\nHusband,\\nFather,\\nGamer.<\\/p>\",\n{\n            'v': null,\n            'f': \"null\",\n        },\n\"2010-04-16 12:46:12.487000+00:00\",\n\"2019-11-28 12:33:53.727000+00:00\",\n\"London, United Kingdom\",\n{\n            'v': 4571,\n            'f': \"4571\",\n        },\n{\n            'v': 212,\n            'f': \"212\",\n        },\n{\n            'v': 15,\n            'f': \"15\",\n        },\n{\n            'v': 267,\n            'f': \"267\",\n        },\nnull,\nnull],\n [{\n            'v': 1,\n            'f': \"1\",\n        },\n{\n            'v': 1801810,\n            'f': \"1801810\",\n        },\n\"user1801810\",\nnull,\n{\n            'v': null,\n            'f': \"null\",\n        },\n\"2012-11-06 02:08:02.850000+00:00\",\n\"2019-11-22 05:37:15.393000+00:00\",\nnull,\n{\n            'v': 547,\n            'f': \"547\",\n        },\n{\n            'v': 104,\n            'f': \"104\",\n        },\n{\n            'v': 11,\n            'f': \"11\",\n        },\n{\n            'v': 58,\n            'f': \"58\",\n        },\nnull,\nnull],\n [{\n            'v': 2,\n            'f': \"2\",\n        },\n{\n            'v': 5782587,\n            'f': \"5782587\",\n        },\n\"greentea\",\nnull,\n{\n            'v': null,\n            'f': \"null\",\n        },\n\"2016-01-13 06:17:07.933000+00:00\",\n\"2016-01-29 07:09:13.403000+00:00\",\nnull,\n{\n            'v': 15,\n            'f': \"15\",\n        },\n{\n            'v': 0,\n            'f': \"0\",\n        },\n{\n            'v': 0,\n            'f': \"0\",\n        },\n{\n            'v': 27,\n            'f': \"27\",\n        },\n\"https://www.gravatar.com/avatar/d6e131fe9db4847ba304fcd38b3aeaa5?s=128&d=identicon&r=PG&f=1\",\nnull],\n [{\n            'v': 3,\n            'f': \"3\",\n        },\n{\n            'v': 8280054,\n            'f': \"8280054\",\n        },\n\"Tricker Macedonia\",\nnull,\n{\n            'v': null,\n            'f': \"null\",\n        },\n\"2017-07-09 17:39:32.320000+00:00\",\n\"2019-07-05 14:45:44.493000+00:00\",\n\"Germany\",\n{\n            'v': 67,\n            'f': \"67\",\n        },\n{\n            'v': 3,\n            'f': \"3\",\n        },\n{\n            'v': 0,\n            'f': \"0\",\n        },\n{\n            'v': 17,\n            'f': \"17\",\n        },\n\"https://www.gravatar.com/avatar/5a02b19f0eae6064c5839897833add34?s=128&d=identicon&r=PG&f=1\",\nnull],\n [{\n            'v': 4,\n            'f': \"4\",\n        },\n{\n            'v': 205282,\n            'f': \"205282\",\n        },\n\"Ali\",\nnull,\n{\n            'v': null,\n            'f': \"null\",\n        },\n\"2009-11-06 21:58:03.247000+00:00\",\n\"2019-11-26 02:42:00.737000+00:00\",\n\"Hartford, CT\",\n{\n            'v': 99,\n            'f': \"99\",\n        },\n{\n            'v': 15,\n            'f': \"15\",\n        },\n{\n            'v': 0,\n            'f': \"0\",\n        },\n{\n            'v': 28,\n            'f': \"28\",\n        },\nnull,\nnull],\n [{\n            'v': 5,\n            'f': \"5\",\n        },\n{\n            'v': 816203,\n            'f': \"816203\",\n        },\n\"davidjmcclelland\",\n\"<p>I develop an online IDE for building Internet of Things applications<\\/p>\",\n{\n            'v': null,\n            'f': \"null\",\n        },\n\"2011-06-26 14:22:59.817000+00:00\",\n\"2019-11-26 18:17:28.443000+00:00\",\n\"Victor, NY 14564, United States\",\n{\n            'v': 209,\n            'f': \"209\",\n        },\n{\n            'v': 691,\n            'f': \"691\",\n        },\n{\n            'v': 5,\n            'f': \"5\",\n        },\n{\n            'v': 105,\n            'f': \"105\",\n        },\nnull,\n\"http://davidjmcclelland.com\"],\n [{\n            'v': 6,\n            'f': \"6\",\n        },\n{\n            'v': 912029,\n            'f': \"912029\",\n        },\n\"xfoguet\",\nnull,\n{\n            'v': null,\n            'f': \"null\",\n        },\n\"2011-08-25 12:11:49.243000+00:00\",\n\"2019-11-18 06:41:23.243000+00:00\",\nnull,\n{\n            'v': 85,\n            'f': \"85\",\n        },\n{\n            'v': 7,\n            'f': \"7\",\n        },\n{\n            'v': 0,\n            'f': \"0\",\n        },\n{\n            'v': 15,\n            'f': \"15\",\n        },\nnull,\nnull],\n [{\n            'v': 7,\n            'f': \"7\",\n        },\n{\n            'v': 4741029,\n            'f': \"4741029\",\n        },\n\"Java Learing\",\nnull,\n{\n            'v': null,\n            'f': \"null\",\n        },\n\"2015-04-02 05:28:15.107000+00:00\",\n\"2019-07-19 15:51:46.067000+00:00\",\nnull,\n{\n            'v': 221,\n            'f': \"221\",\n        },\n{\n            'v': 13,\n            'f': \"13\",\n        },\n{\n            'v': 0,\n            'f': \"0\",\n        },\n{\n            'v': 106,\n            'f': \"106\",\n        },\n\"https://www.gravatar.com/avatar/bca069c81785e7e5f30f9991f9a629fd?s=128&d=identicon&r=PG&f=1\",\nnull],\n [{\n            'v': 8,\n            'f': \"8\",\n        },\n{\n            'v': 4686928,\n            'f': \"4686928\",\n        },\n\"Joseph Gagliardo\",\nnull,\n{\n            'v': null,\n            'f': \"null\",\n        },\n\"2015-03-18 19:23:26.980000+00:00\",\n\"2016-03-01 08:09:17.067000+00:00\",\nnull,\n{\n            'v': 643,\n            'f': \"643\",\n        },\n{\n            'v': 0,\n            'f': \"0\",\n        },\n{\n            'v': 0,\n            'f': \"0\",\n        },\n{\n            'v': 41,\n            'f': \"41\",\n        },\n\"https://www.gravatar.com/avatar/2d0623ff426e92a3a600cbbf1fafc5a5?s=128&d=identicon&r=PG&f=1\",\nnull],\n [{\n            'v': 9,\n            'f': \"9\",\n        },\n{\n            'v': 580248,\n            'f': \"580248\",\n        },\n\"Fbarisio\",\nnull,\n{\n            'v': null,\n            'f': \"null\",\n        },\n\"2011-01-18 16:37:24.790000+00:00\",\n\"2014-02-26 19:19:07.283000+00:00\",\nnull,\n{\n            'v': 53,\n            'f': \"53\",\n        },\n{\n            'v': 0,\n            'f': \"0\",\n        },\n{\n            'v': 0,\n            'f': \"0\",\n        },\n{\n            'v': 15,\n            'f': \"15\",\n        },\nnull,\nnull]],\n        columns: [[\"number\", \"index\"], [\"number\", \"id\"], [\"string\", \"display_name\"], [\"string\", \"about_me\"], [\"number\", \"age\"], [\"string\", \"creation_date\"], [\"string\", \"last_access_date\"], [\"string\", \"location\"], [\"number\", \"reputation\"], [\"number\", \"up_votes\"], [\"number\", \"down_votes\"], [\"number\", \"views\"], [\"string\", \"profile_image_url\"], [\"string\", \"website_url\"]],\n        columnOptions: [{\"width\": \"1px\", \"className\": \"index_column\"}],\n        rowsPerPage: 25,\n        helpUrl: \"https://colab.research.google.com/notebooks/data_table.ipynb\",\n        suppressOutputScrolling: false,\n      });\n    ",
            "text/html": [
              "<div>\n",
              "<style scoped>\n",
              "    .dataframe tbody tr th:only-of-type {\n",
              "        vertical-align: middle;\n",
              "    }\n",
              "\n",
              "    .dataframe tbody tr th {\n",
              "        vertical-align: top;\n",
              "    }\n",
              "\n",
              "    .dataframe thead th {\n",
              "        text-align: right;\n",
              "    }\n",
              "</style>\n",
              "<table border=\"1\" class=\"dataframe\">\n",
              "  <thead>\n",
              "    <tr style=\"text-align: right;\">\n",
              "      <th></th>\n",
              "      <th>id</th>\n",
              "      <th>display_name</th>\n",
              "      <th>about_me</th>\n",
              "      <th>age</th>\n",
              "      <th>creation_date</th>\n",
              "      <th>last_access_date</th>\n",
              "      <th>location</th>\n",
              "      <th>reputation</th>\n",
              "      <th>up_votes</th>\n",
              "      <th>down_votes</th>\n",
              "      <th>views</th>\n",
              "      <th>profile_image_url</th>\n",
              "      <th>website_url</th>\n",
              "    </tr>\n",
              "  </thead>\n",
              "  <tbody>\n",
              "    <tr>\n",
              "      <th>0</th>\n",
              "      <td>318488</td>\n",
              "      <td>Simon Hibbs</td>\n",
              "      <td>&lt;p&gt;Application Support Engineer in the financi...</td>\n",
              "      <td>None</td>\n",
              "      <td>2010-04-16 12:46:12.487000+00:00</td>\n",
              "      <td>2019-11-28 12:33:53.727000+00:00</td>\n",
              "      <td>London, United Kingdom</td>\n",
              "      <td>4571</td>\n",
              "      <td>212</td>\n",
              "      <td>15</td>\n",
              "      <td>267</td>\n",
              "      <td>None</td>\n",
              "      <td>None</td>\n",
              "    </tr>\n",
              "    <tr>\n",
              "      <th>1</th>\n",
              "      <td>1801810</td>\n",
              "      <td>user1801810</td>\n",
              "      <td>None</td>\n",
              "      <td>None</td>\n",
              "      <td>2012-11-06 02:08:02.850000+00:00</td>\n",
              "      <td>2019-11-22 05:37:15.393000+00:00</td>\n",
              "      <td>None</td>\n",
              "      <td>547</td>\n",
              "      <td>104</td>\n",
              "      <td>11</td>\n",
              "      <td>58</td>\n",
              "      <td>None</td>\n",
              "      <td>None</td>\n",
              "    </tr>\n",
              "    <tr>\n",
              "      <th>2</th>\n",
              "      <td>5782587</td>\n",
              "      <td>greentea</td>\n",
              "      <td>None</td>\n",
              "      <td>None</td>\n",
              "      <td>2016-01-13 06:17:07.933000+00:00</td>\n",
              "      <td>2016-01-29 07:09:13.403000+00:00</td>\n",
              "      <td>None</td>\n",
              "      <td>15</td>\n",
              "      <td>0</td>\n",
              "      <td>0</td>\n",
              "      <td>27</td>\n",
              "      <td>https://www.gravatar.com/avatar/d6e131fe9db484...</td>\n",
              "      <td>None</td>\n",
              "    </tr>\n",
              "    <tr>\n",
              "      <th>3</th>\n",
              "      <td>8280054</td>\n",
              "      <td>Tricker Macedonia</td>\n",
              "      <td>None</td>\n",
              "      <td>None</td>\n",
              "      <td>2017-07-09 17:39:32.320000+00:00</td>\n",
              "      <td>2019-07-05 14:45:44.493000+00:00</td>\n",
              "      <td>Germany</td>\n",
              "      <td>67</td>\n",
              "      <td>3</td>\n",
              "      <td>0</td>\n",
              "      <td>17</td>\n",
              "      <td>https://www.gravatar.com/avatar/5a02b19f0eae60...</td>\n",
              "      <td>None</td>\n",
              "    </tr>\n",
              "    <tr>\n",
              "      <th>4</th>\n",
              "      <td>205282</td>\n",
              "      <td>Ali</td>\n",
              "      <td>None</td>\n",
              "      <td>None</td>\n",
              "      <td>2009-11-06 21:58:03.247000+00:00</td>\n",
              "      <td>2019-11-26 02:42:00.737000+00:00</td>\n",
              "      <td>Hartford, CT</td>\n",
              "      <td>99</td>\n",
              "      <td>15</td>\n",
              "      <td>0</td>\n",
              "      <td>28</td>\n",
              "      <td>None</td>\n",
              "      <td>None</td>\n",
              "    </tr>\n",
              "    <tr>\n",
              "      <th>5</th>\n",
              "      <td>816203</td>\n",
              "      <td>davidjmcclelland</td>\n",
              "      <td>&lt;p&gt;I develop an online IDE for building Intern...</td>\n",
              "      <td>None</td>\n",
              "      <td>2011-06-26 14:22:59.817000+00:00</td>\n",
              "      <td>2019-11-26 18:17:28.443000+00:00</td>\n",
              "      <td>Victor, NY 14564, United States</td>\n",
              "      <td>209</td>\n",
              "      <td>691</td>\n",
              "      <td>5</td>\n",
              "      <td>105</td>\n",
              "      <td>None</td>\n",
              "      <td>http://davidjmcclelland.com</td>\n",
              "    </tr>\n",
              "    <tr>\n",
              "      <th>6</th>\n",
              "      <td>912029</td>\n",
              "      <td>xfoguet</td>\n",
              "      <td>None</td>\n",
              "      <td>None</td>\n",
              "      <td>2011-08-25 12:11:49.243000+00:00</td>\n",
              "      <td>2019-11-18 06:41:23.243000+00:00</td>\n",
              "      <td>None</td>\n",
              "      <td>85</td>\n",
              "      <td>7</td>\n",
              "      <td>0</td>\n",
              "      <td>15</td>\n",
              "      <td>None</td>\n",
              "      <td>None</td>\n",
              "    </tr>\n",
              "    <tr>\n",
              "      <th>7</th>\n",
              "      <td>4741029</td>\n",
              "      <td>Java Learing</td>\n",
              "      <td>None</td>\n",
              "      <td>None</td>\n",
              "      <td>2015-04-02 05:28:15.107000+00:00</td>\n",
              "      <td>2019-07-19 15:51:46.067000+00:00</td>\n",
              "      <td>None</td>\n",
              "      <td>221</td>\n",
              "      <td>13</td>\n",
              "      <td>0</td>\n",
              "      <td>106</td>\n",
              "      <td>https://www.gravatar.com/avatar/bca069c81785e7...</td>\n",
              "      <td>None</td>\n",
              "    </tr>\n",
              "    <tr>\n",
              "      <th>8</th>\n",
              "      <td>4686928</td>\n",
              "      <td>Joseph Gagliardo</td>\n",
              "      <td>None</td>\n",
              "      <td>None</td>\n",
              "      <td>2015-03-18 19:23:26.980000+00:00</td>\n",
              "      <td>2016-03-01 08:09:17.067000+00:00</td>\n",
              "      <td>None</td>\n",
              "      <td>643</td>\n",
              "      <td>0</td>\n",
              "      <td>0</td>\n",
              "      <td>41</td>\n",
              "      <td>https://www.gravatar.com/avatar/2d0623ff426e92...</td>\n",
              "      <td>None</td>\n",
              "    </tr>\n",
              "    <tr>\n",
              "      <th>9</th>\n",
              "      <td>580248</td>\n",
              "      <td>Fbarisio</td>\n",
              "      <td>None</td>\n",
              "      <td>None</td>\n",
              "      <td>2011-01-18 16:37:24.790000+00:00</td>\n",
              "      <td>2014-02-26 19:19:07.283000+00:00</td>\n",
              "      <td>None</td>\n",
              "      <td>53</td>\n",
              "      <td>0</td>\n",
              "      <td>0</td>\n",
              "      <td>15</td>\n",
              "      <td>None</td>\n",
              "      <td>None</td>\n",
              "    </tr>\n",
              "  </tbody>\n",
              "</table>\n",
              "</div>"
            ],
            "text/plain": [
              "        id  ...                  website_url\n",
              "0   318488  ...                         None\n",
              "1  1801810  ...                         None\n",
              "2  5782587  ...                         None\n",
              "3  8280054  ...                         None\n",
              "4   205282  ...                         None\n",
              "5   816203  ...  http://davidjmcclelland.com\n",
              "6   912029  ...                         None\n",
              "7  4741029  ...                         None\n",
              "8  4686928  ...                         None\n",
              "9   580248  ...                         None\n",
              "\n",
              "[10 rows x 13 columns]"
            ]
          },
          "metadata": {
            "tags": []
          },
          "execution_count": 21
        }
      ]
    },
    {
      "cell_type": "markdown",
      "metadata": {
        "id": "5erPLGF-9YSL",
        "colab_type": "text"
      },
      "source": [
        "# Note:\n",
        "Let's sort the dataset and see what we get, it turns out the highest reputation is 49757 only, the reason is this dataset has a very heavy left side records because majority of records have a reputation value less than mean"
      ]
    },
    {
      "cell_type": "code",
      "metadata": {
        "id": "zZ2nwVwC8uzG",
        "colab_type": "code",
        "colab": {
          "base_uri": "https://localhost:8080/",
          "height": 299
        },
        "outputId": "4112de5a-c415-4a6d-88bd-fd5fa1bbe090"
      },
      "source": [
        "df.sort_values('reputation', ascending=False).head(10)[['id', 'display_name', 'creation_date', 'last_access_date', 'location', 'reputation']]"
      ],
      "execution_count": 24,
      "outputs": [
        {
          "output_type": "execute_result",
          "data": {
            "application/vnd.google.colaboratory.module+javascript": "\n      import \"https://ssl.gstatic.com/colaboratory/data_table/84ef27dae82052e3/data_table.js\";\n\n      window.createDataTable({\n        data: [[{\n            'v': 1439,\n            'f': \"1439\",\n        },\n{\n            'v': 200936,\n            'f': \"200936\",\n        },\n\"Christopher Painter\",\n\"2009-11-02 12:48:03.807000+00:00\",\n\"2019-11-23 05:13:56.823000+00:00\",\n\"Austin, TX\",\n{\n            'v': 49757,\n            'f': \"49757\",\n        }],\n [{\n            'v': 514,\n            'f': \"514\",\n        },\n{\n            'v': 343340,\n            'f': \"343340\",\n        },\n\"DrummerB\",\n\"2010-05-17 18:29:50.650000+00:00\",\n\"2019-11-28 15:09:41.093000+00:00\",\nnull,\n{\n            'v': 37443,\n            'f': \"37443\",\n        }],\n [{\n            'v': 1420,\n            'f': \"1420\",\n        },\n{\n            'v': 42126,\n            'f': \"42126\",\n        },\n\"kdgregory\",\n\"2008-12-01 13:21:55.317000+00:00\",\n\"2019-11-14 12:32:29.550000+00:00\",\nnull,\n{\n            'v': 34389,\n            'f': \"34389\",\n        }],\n [{\n            'v': 30,\n            'f': \"30\",\n        },\n{\n            'v': 106797,\n            'f': \"106797\",\n        },\n\"Catskul\",\n\"2009-05-14 03:29:44.370000+00:00\",\n\"2019-11-29 21:31:26.850000+00:00\",\n\"Pittsburgh, PA\",\n{\n            'v': 13795,\n            'f': \"13795\",\n        }],\n [{\n            'v': 505,\n            'f': \"505\",\n        },\n{\n            'v': 455257,\n            'f': \"455257\",\n        },\n\"ayush\",\n\"2010-05-29 22:14:20.267000+00:00\",\n\"2019-10-03 13:50:54.047000+00:00\",\n\"Bangalore, Karnataka, India\",\n{\n            'v': 12060,\n            'f': \"12060\",\n        }],\n [{\n            'v': 973,\n            'f': \"973\",\n        },\n{\n            'v': 280490,\n            'f': \"280490\",\n        },\n\"jd.\",\n\"2010-02-24 16:21:30.433000+00:00\",\n\"2018-11-29 12:02:29.200000+00:00\",\nnull,\n{\n            'v': 8816,\n            'f': \"8816\",\n        }],\n [{\n            'v': 979,\n            'f': \"979\",\n        },\n{\n            'v': 382982,\n            'f': \"382982\",\n        },\n\"pdoherty926\",\n\"2010-07-04 06:58:40.447000+00:00\",\n\"2019-11-28 04:30:08.943000+00:00\",\n\"Brooklyn, NY, United States\",\n{\n            'v': 8730,\n            'f': \"8730\",\n        }],\n [{\n            'v': 511,\n            'f': \"511\",\n        },\n{\n            'v': 1931097,\n            'f': \"1931097\",\n        },\n\"Kamran Ahmed\",\n\"2012-12-27 02:50:57.927000+00:00\",\n\"2019-11-30 14:06:49.247000+00:00\",\n\"Dubai - United Arab Emirates\",\n{\n            'v': 7867,\n            'f': \"7867\",\n        }],\n [{\n            'v': 32,\n            'f': \"32\",\n        },\n{\n            'v': 1323847,\n            'f': \"1323847\",\n        },\n\"jonathanpberger\",\n\"2012-04-10 10:51:10.450000+00:00\",\n\"2013-11-29 19:02:01.720000+00:00\",\n\"New York, United States\",\n{\n            'v': 7572,\n            'f': \"7572\",\n        }],\n [{\n            'v': 1429,\n            'f': \"1429\",\n        },\n{\n            'v': 164142,\n            'f': \"164142\",\n        },\n\"Neil\",\n\"2009-08-27 11:27:38.767000+00:00\",\n\"2019-11-27 15:38:07.140000+00:00\",\n\"London, United Kingdom\",\n{\n            'v': 6761,\n            'f': \"6761\",\n        }]],\n        columns: [[\"number\", \"index\"], [\"number\", \"id\"], [\"string\", \"display_name\"], [\"string\", \"creation_date\"], [\"string\", \"last_access_date\"], [\"string\", \"location\"], [\"number\", \"reputation\"]],\n        columnOptions: [{\"width\": \"1px\", \"className\": \"index_column\"}],\n        rowsPerPage: 25,\n        helpUrl: \"https://colab.research.google.com/notebooks/data_table.ipynb\",\n        suppressOutputScrolling: false,\n      });\n    ",
            "text/html": [
              "<div>\n",
              "<style scoped>\n",
              "    .dataframe tbody tr th:only-of-type {\n",
              "        vertical-align: middle;\n",
              "    }\n",
              "\n",
              "    .dataframe tbody tr th {\n",
              "        vertical-align: top;\n",
              "    }\n",
              "\n",
              "    .dataframe thead th {\n",
              "        text-align: right;\n",
              "    }\n",
              "</style>\n",
              "<table border=\"1\" class=\"dataframe\">\n",
              "  <thead>\n",
              "    <tr style=\"text-align: right;\">\n",
              "      <th></th>\n",
              "      <th>id</th>\n",
              "      <th>display_name</th>\n",
              "      <th>creation_date</th>\n",
              "      <th>last_access_date</th>\n",
              "      <th>location</th>\n",
              "      <th>reputation</th>\n",
              "    </tr>\n",
              "  </thead>\n",
              "  <tbody>\n",
              "    <tr>\n",
              "      <th>1439</th>\n",
              "      <td>200936</td>\n",
              "      <td>Christopher Painter</td>\n",
              "      <td>2009-11-02 12:48:03.807000+00:00</td>\n",
              "      <td>2019-11-23 05:13:56.823000+00:00</td>\n",
              "      <td>Austin, TX</td>\n",
              "      <td>49757</td>\n",
              "    </tr>\n",
              "    <tr>\n",
              "      <th>514</th>\n",
              "      <td>343340</td>\n",
              "      <td>DrummerB</td>\n",
              "      <td>2010-05-17 18:29:50.650000+00:00</td>\n",
              "      <td>2019-11-28 15:09:41.093000+00:00</td>\n",
              "      <td>None</td>\n",
              "      <td>37443</td>\n",
              "    </tr>\n",
              "    <tr>\n",
              "      <th>1420</th>\n",
              "      <td>42126</td>\n",
              "      <td>kdgregory</td>\n",
              "      <td>2008-12-01 13:21:55.317000+00:00</td>\n",
              "      <td>2019-11-14 12:32:29.550000+00:00</td>\n",
              "      <td>None</td>\n",
              "      <td>34389</td>\n",
              "    </tr>\n",
              "    <tr>\n",
              "      <th>30</th>\n",
              "      <td>106797</td>\n",
              "      <td>Catskul</td>\n",
              "      <td>2009-05-14 03:29:44.370000+00:00</td>\n",
              "      <td>2019-11-29 21:31:26.850000+00:00</td>\n",
              "      <td>Pittsburgh, PA</td>\n",
              "      <td>13795</td>\n",
              "    </tr>\n",
              "    <tr>\n",
              "      <th>505</th>\n",
              "      <td>455257</td>\n",
              "      <td>ayush</td>\n",
              "      <td>2010-05-29 22:14:20.267000+00:00</td>\n",
              "      <td>2019-10-03 13:50:54.047000+00:00</td>\n",
              "      <td>Bangalore, Karnataka, India</td>\n",
              "      <td>12060</td>\n",
              "    </tr>\n",
              "    <tr>\n",
              "      <th>973</th>\n",
              "      <td>280490</td>\n",
              "      <td>jd.</td>\n",
              "      <td>2010-02-24 16:21:30.433000+00:00</td>\n",
              "      <td>2018-11-29 12:02:29.200000+00:00</td>\n",
              "      <td>None</td>\n",
              "      <td>8816</td>\n",
              "    </tr>\n",
              "    <tr>\n",
              "      <th>979</th>\n",
              "      <td>382982</td>\n",
              "      <td>pdoherty926</td>\n",
              "      <td>2010-07-04 06:58:40.447000+00:00</td>\n",
              "      <td>2019-11-28 04:30:08.943000+00:00</td>\n",
              "      <td>Brooklyn, NY, United States</td>\n",
              "      <td>8730</td>\n",
              "    </tr>\n",
              "    <tr>\n",
              "      <th>511</th>\n",
              "      <td>1931097</td>\n",
              "      <td>Kamran Ahmed</td>\n",
              "      <td>2012-12-27 02:50:57.927000+00:00</td>\n",
              "      <td>2019-11-30 14:06:49.247000+00:00</td>\n",
              "      <td>Dubai - United Arab Emirates</td>\n",
              "      <td>7867</td>\n",
              "    </tr>\n",
              "    <tr>\n",
              "      <th>32</th>\n",
              "      <td>1323847</td>\n",
              "      <td>jonathanpberger</td>\n",
              "      <td>2012-04-10 10:51:10.450000+00:00</td>\n",
              "      <td>2013-11-29 19:02:01.720000+00:00</td>\n",
              "      <td>New York, United States</td>\n",
              "      <td>7572</td>\n",
              "    </tr>\n",
              "    <tr>\n",
              "      <th>1429</th>\n",
              "      <td>164142</td>\n",
              "      <td>Neil</td>\n",
              "      <td>2009-08-27 11:27:38.767000+00:00</td>\n",
              "      <td>2019-11-27 15:38:07.140000+00:00</td>\n",
              "      <td>London, United Kingdom</td>\n",
              "      <td>6761</td>\n",
              "    </tr>\n",
              "  </tbody>\n",
              "</table>\n",
              "</div>"
            ],
            "text/plain": [
              "           id         display_name  ...                      location reputation\n",
              "1439   200936  Christopher Painter  ...                    Austin, TX      49757\n",
              "514    343340             DrummerB  ...                          None      37443\n",
              "1420    42126            kdgregory  ...                          None      34389\n",
              "30     106797              Catskul  ...                Pittsburgh, PA      13795\n",
              "505    455257                ayush  ...   Bangalore, Karnataka, India      12060\n",
              "973    280490                  jd.  ...                          None       8816\n",
              "979    382982          pdoherty926  ...   Brooklyn, NY, United States       8730\n",
              "511   1931097         Kamran Ahmed  ...  Dubai - United Arab Emirates       7867\n",
              "32    1323847      jonathanpberger  ...       New York, United States       7572\n",
              "1429   164142                 Neil  ...        London, United Kingdom       6761\n",
              "\n",
              "[10 rows x 6 columns]"
            ]
          },
          "metadata": {
            "tags": []
          },
          "execution_count": 24
        }
      ]
    },
    {
      "cell_type": "markdown",
      "metadata": {
        "id": "3fSl_5qAMlwq",
        "colab_type": "text"
      },
      "source": [
        "## PANDAS"
      ]
    },
    {
      "cell_type": "markdown",
      "metadata": {
        "id": "R6WjB0I_-MMb",
        "colab_type": "text"
      },
      "source": [
        "Using pandas can help easily plot a histogram of the reputation based on the sample data out of 11376305 in total"
      ]
    },
    {
      "cell_type": "code",
      "metadata": {
        "id": "P_0c7oEUD_3z",
        "colab_type": "code",
        "colab": {}
      },
      "source": [
        "import pandas as pd\n",
        "\n",
        "sample_ratio = 0.01"
      ],
      "execution_count": 0,
      "outputs": []
    },
    {
      "cell_type": "code",
      "metadata": {
        "id": "N9vR00ci_b71",
        "colab_type": "code",
        "colab": {
          "base_uri": "https://localhost:8080/",
          "height": 34
        },
        "outputId": "8d3058ce-6cbc-4e59-88a8-d232a9c04362"
      },
      "source": [
        "q_bq_full = \"SELECT * FROM `bigquery-public-data.stackoverflow.users`\"\n",
        "q_bq_sample = \"SELECT * FROM `bigquery-public-data.stackoverflow.users` WHERE RAND() < %d/%d\" % (sample_count, row_count)\n",
        "q_bq_sample"
      ],
      "execution_count": 28,
      "outputs": [
        {
          "output_type": "execute_result",
          "data": {
            "text/plain": [
              "'SELECT * FROM `bigquery-public-data.stackoverflow.users` WHERE RAND() < 2000/11376305'"
            ]
          },
          "metadata": {
            "tags": []
          },
          "execution_count": 28
        }
      ]
    },
    {
      "cell_type": "code",
      "metadata": {
        "id": "hKu3VCqc9Fou",
        "colab_type": "code",
        "colab": {
          "base_uri": "https://localhost:8080/",
          "height": 290
        },
        "outputId": "1ec19c1d-ad55-44b7-8e3e-7ba46dc08075"
      },
      "source": [
        "\n",
        "df = pd.read_gbq(q_bq_sample, project_id=project, dialect='standard')\n",
        "\n",
        "df.head()"
      ],
      "execution_count": 30,
      "outputs": [
        {
          "output_type": "execute_result",
          "data": {
            "application/vnd.google.colaboratory.module+javascript": "\n      import \"https://ssl.gstatic.com/colaboratory/data_table/84ef27dae82052e3/data_table.js\";\n\n      window.createDataTable({\n        data: [[{\n            'v': 0,\n            'f': \"0\",\n        },\n{\n            'v': 4385068,\n            'f': \"4385068\",\n        },\n\"Higginslpert\",\nnull,\n{\n            'v': null,\n            'f': \"null\",\n        },\n\"2014-12-22 11:46:48.033000+00:00\",\n\"2015-02-12 06:36:21.037000+00:00\",\nnull,\n{\n            'v': 113,\n            'f': \"113\",\n        },\n{\n            'v': 0,\n            'f': \"0\",\n        },\n{\n            'v': 0,\n            'f': \"0\",\n        },\n{\n            'v': 17,\n            'f': \"17\",\n        },\n\"https://www.gravatar.com/avatar/7fac6bc4c38b9ab784f7811eccde771a?s=128&d=identicon&r=PG&f=1\",\nnull],\n [{\n            'v': 1,\n            'f': \"1\",\n        },\n{\n            'v': 6552444,\n            'f': \"6552444\",\n        },\n\"omid gholami\",\nnull,\n{\n            'v': null,\n            'f': \"null\",\n        },\n\"2016-07-05 15:34:03.337000+00:00\",\n\"2019-02-21 13:01:23.230000+00:00\",\nnull,\n{\n            'v': 87,\n            'f': \"87\",\n        },\n{\n            'v': 6,\n            'f': \"6\",\n        },\n{\n            'v': 0,\n            'f': \"0\",\n        },\n{\n            'v': 18,\n            'f': \"18\",\n        },\n\"https://www.gravatar.com/avatar/e6c0ee2a182b6a5c6be99e0516587972?s=128&d=identicon&r=PG&f=1\",\nnull],\n [{\n            'v': 2,\n            'f': \"2\",\n        },\n{\n            'v': 1563588,\n            'f': \"1563588\",\n        },\n\"Sean Mshan\",\nnull,\n{\n            'v': null,\n            'f': \"null\",\n        },\n\"2012-07-30 16:47:52.073000+00:00\",\n\"2015-01-02 10:12:06.383000+00:00\",\nnull,\n{\n            'v': 57,\n            'f': \"57\",\n        },\n{\n            'v': 0,\n            'f': \"0\",\n        },\n{\n            'v': 0,\n            'f': \"0\",\n        },\n{\n            'v': 17,\n            'f': \"17\",\n        },\nnull,\nnull],\n [{\n            'v': 3,\n            'f': \"3\",\n        },\n{\n            'v': 5681408,\n            'f': \"5681408\",\n        },\n\"kmy\",\nnull,\n{\n            'v': null,\n            'f': \"null\",\n        },\n\"2015-12-15 09:29:26.337000+00:00\",\n\"2016-01-12 02:48:43.017000+00:00\",\nnull,\n{\n            'v': 45,\n            'f': \"45\",\n        },\n{\n            'v': 3,\n            'f': \"3\",\n        },\n{\n            'v': 0,\n            'f': \"0\",\n        },\n{\n            'v': 37,\n            'f': \"37\",\n        },\n\"https://www.gravatar.com/avatar/d5eb7e7b45d7c7c2a76af1866b4fe2c0?s=128&d=identicon&r=PG&f=1\",\nnull],\n [{\n            'v': 4,\n            'f': \"4\",\n        },\n{\n            'v': 908958,\n            'f': \"908958\",\n        },\n\"MJN\",\n\"<p>Mac and iOS instructor at the University of Washington.<\\/p>\",\n{\n            'v': null,\n            'f': \"null\",\n        },\n\"2011-08-24 05:35:54.500000+00:00\",\n\"2019-11-30 05:46:16.283000+00:00\",\n\"Seattle, WA\",\n{\n            'v': 10080,\n            'f': \"10080\",\n        },\n{\n            'v': 102,\n            'f': \"102\",\n        },\n{\n            'v': 4,\n            'f': \"4\",\n        },\n{\n            'v': 553,\n            'f': \"553\",\n        },\nnull,\n\"http://martinjnash.com\"]],\n        columns: [[\"number\", \"index\"], [\"number\", \"id\"], [\"string\", \"display_name\"], [\"string\", \"about_me\"], [\"number\", \"age\"], [\"string\", \"creation_date\"], [\"string\", \"last_access_date\"], [\"string\", \"location\"], [\"number\", \"reputation\"], [\"number\", \"up_votes\"], [\"number\", \"down_votes\"], [\"number\", \"views\"], [\"string\", \"profile_image_url\"], [\"string\", \"website_url\"]],\n        columnOptions: [{\"width\": \"1px\", \"className\": \"index_column\"}],\n        rowsPerPage: 25,\n        helpUrl: \"https://colab.research.google.com/notebooks/data_table.ipynb\",\n        suppressOutputScrolling: false,\n      });\n    ",
            "text/html": [
              "<div>\n",
              "<style scoped>\n",
              "    .dataframe tbody tr th:only-of-type {\n",
              "        vertical-align: middle;\n",
              "    }\n",
              "\n",
              "    .dataframe tbody tr th {\n",
              "        vertical-align: top;\n",
              "    }\n",
              "\n",
              "    .dataframe thead th {\n",
              "        text-align: right;\n",
              "    }\n",
              "</style>\n",
              "<table border=\"1\" class=\"dataframe\">\n",
              "  <thead>\n",
              "    <tr style=\"text-align: right;\">\n",
              "      <th></th>\n",
              "      <th>id</th>\n",
              "      <th>display_name</th>\n",
              "      <th>about_me</th>\n",
              "      <th>age</th>\n",
              "      <th>creation_date</th>\n",
              "      <th>last_access_date</th>\n",
              "      <th>location</th>\n",
              "      <th>reputation</th>\n",
              "      <th>up_votes</th>\n",
              "      <th>down_votes</th>\n",
              "      <th>views</th>\n",
              "      <th>profile_image_url</th>\n",
              "      <th>website_url</th>\n",
              "    </tr>\n",
              "  </thead>\n",
              "  <tbody>\n",
              "    <tr>\n",
              "      <th>0</th>\n",
              "      <td>4385068</td>\n",
              "      <td>Higginslpert</td>\n",
              "      <td>None</td>\n",
              "      <td>None</td>\n",
              "      <td>2014-12-22 11:46:48.033000+00:00</td>\n",
              "      <td>2015-02-12 06:36:21.037000+00:00</td>\n",
              "      <td>None</td>\n",
              "      <td>113</td>\n",
              "      <td>0</td>\n",
              "      <td>0</td>\n",
              "      <td>17</td>\n",
              "      <td>https://www.gravatar.com/avatar/7fac6bc4c38b9a...</td>\n",
              "      <td>None</td>\n",
              "    </tr>\n",
              "    <tr>\n",
              "      <th>1</th>\n",
              "      <td>6552444</td>\n",
              "      <td>omid gholami</td>\n",
              "      <td>None</td>\n",
              "      <td>None</td>\n",
              "      <td>2016-07-05 15:34:03.337000+00:00</td>\n",
              "      <td>2019-02-21 13:01:23.230000+00:00</td>\n",
              "      <td>None</td>\n",
              "      <td>87</td>\n",
              "      <td>6</td>\n",
              "      <td>0</td>\n",
              "      <td>18</td>\n",
              "      <td>https://www.gravatar.com/avatar/e6c0ee2a182b6a...</td>\n",
              "      <td>None</td>\n",
              "    </tr>\n",
              "    <tr>\n",
              "      <th>2</th>\n",
              "      <td>1563588</td>\n",
              "      <td>Sean Mshan</td>\n",
              "      <td>None</td>\n",
              "      <td>None</td>\n",
              "      <td>2012-07-30 16:47:52.073000+00:00</td>\n",
              "      <td>2015-01-02 10:12:06.383000+00:00</td>\n",
              "      <td>None</td>\n",
              "      <td>57</td>\n",
              "      <td>0</td>\n",
              "      <td>0</td>\n",
              "      <td>17</td>\n",
              "      <td>None</td>\n",
              "      <td>None</td>\n",
              "    </tr>\n",
              "    <tr>\n",
              "      <th>3</th>\n",
              "      <td>5681408</td>\n",
              "      <td>kmy</td>\n",
              "      <td>None</td>\n",
              "      <td>None</td>\n",
              "      <td>2015-12-15 09:29:26.337000+00:00</td>\n",
              "      <td>2016-01-12 02:48:43.017000+00:00</td>\n",
              "      <td>None</td>\n",
              "      <td>45</td>\n",
              "      <td>3</td>\n",
              "      <td>0</td>\n",
              "      <td>37</td>\n",
              "      <td>https://www.gravatar.com/avatar/d5eb7e7b45d7c7...</td>\n",
              "      <td>None</td>\n",
              "    </tr>\n",
              "    <tr>\n",
              "      <th>4</th>\n",
              "      <td>908958</td>\n",
              "      <td>MJN</td>\n",
              "      <td>&lt;p&gt;Mac and iOS instructor at the University of...</td>\n",
              "      <td>None</td>\n",
              "      <td>2011-08-24 05:35:54.500000+00:00</td>\n",
              "      <td>2019-11-30 05:46:16.283000+00:00</td>\n",
              "      <td>Seattle, WA</td>\n",
              "      <td>10080</td>\n",
              "      <td>102</td>\n",
              "      <td>4</td>\n",
              "      <td>553</td>\n",
              "      <td>None</td>\n",
              "      <td>http://martinjnash.com</td>\n",
              "    </tr>\n",
              "  </tbody>\n",
              "</table>\n",
              "</div>"
            ],
            "text/plain": [
              "        id  ...             website_url\n",
              "0  4385068  ...                    None\n",
              "1  6552444  ...                    None\n",
              "2  1563588  ...                    None\n",
              "3  5681408  ...                    None\n",
              "4   908958  ...  http://martinjnash.com\n",
              "\n",
              "[5 rows x 13 columns]"
            ]
          },
          "metadata": {
            "tags": []
          },
          "execution_count": 30
        }
      ]
    },
    {
      "cell_type": "markdown",
      "metadata": {
        "id": "w2e2xqfjBKZY",
        "colab_type": "text"
      },
      "source": [
        "We can further find out from the histogram that the dataset has a very heavy left side on \"**reputation**\" value, it is also seen from describe() we see the *min, 25%, 50% and 75%*"
      ]
    },
    {
      "cell_type": "code",
      "metadata": {
        "id": "7jSssoCkAF26",
        "colab_type": "code",
        "colab": {
          "base_uri": "https://localhost:8080/",
          "height": 282
        },
        "outputId": "db367d26-4f87-46bb-8b2d-0efccb3ad7e8"
      },
      "source": [
        "df['reputation'].hist(bins=10)"
      ],
      "execution_count": 34,
      "outputs": [
        {
          "output_type": "execute_result",
          "data": {
            "text/plain": [
              "<matplotlib.axes._subplots.AxesSubplot at 0x7f658abd17f0>"
            ]
          },
          "metadata": {
            "tags": []
          },
          "execution_count": 34
        },
        {
          "output_type": "display_data",
          "data": {
            "image/png": "[encoded data removed]",
            "text/plain": [
              "<Figure size 432x288 with 1 Axes>"
            ]
          },
          "metadata": {
            "tags": []
          }
        }
      ]
    },
    {
      "cell_type": "code",
      "metadata": {
        "id": "ClxAfqobAs-A",
        "colab_type": "code",
        "colab": {
          "base_uri": "https://localhost:8080/",
          "height": 257
        },
        "outputId": "33480f38-95bb-4dcc-8579-187b10e52605"
      },
      "source": [
        "df.describe()"
      ],
      "execution_count": 35,
      "outputs": [
        {
          "output_type": "execute_result",
          "data": {
            "application/vnd.google.colaboratory.module+javascript": "\n      import \"https://ssl.gstatic.com/colaboratory/data_table/84ef27dae82052e3/data_table.js\";\n\n      window.createDataTable({\n        data: [[\"count\",\n{\n            'v': 2014.0,\n            'f': \"2014.0\",\n        },\n{\n            'v': 2014.0,\n            'f': \"2014.0\",\n        },\n{\n            'v': 2014.0,\n            'f': \"2014.0\",\n        },\n{\n            'v': 2014.0,\n            'f': \"2014.0\",\n        },\n{\n            'v': 2014.0,\n            'f': \"2014.0\",\n        }],\n [\"mean\",\n{\n            'v': 6480823.40367428,\n            'f': \"6480823.40367428\",\n        },\n{\n            'v': 100.77308838133068,\n            'f': \"100.77308838133068\",\n        },\n{\n            'v': 10.316285998013903,\n            'f': \"10.316285998013903\",\n        },\n{\n            'v': 0.4051638530287984,\n            'f': \"0.4051638530287984\",\n        },\n{\n            'v': 11.65888778550149,\n            'f': \"11.65888778550149\",\n        }],\n [\"std\",\n{\n            'v': 3463125.528045747,\n            'f': \"3463125.528045747\",\n        },\n{\n            'v': 820.5416562781634,\n            'f': \"820.5416562781634\",\n        },\n{\n            'v': 86.13587945604877,\n            'f': \"86.13587945604877\",\n        },\n{\n            'v': 6.0086618341542355,\n            'f': \"6.0086618341542355\",\n        },\n{\n            'v': 92.21365678531197,\n            'f': \"92.21365678531197\",\n        }],\n [\"min\",\n{\n            'v': 11526.0,\n            'f': \"11526.0\",\n        },\n{\n            'v': 1.0,\n            'f': \"1.0\",\n        },\n{\n            'v': 0.0,\n            'f': \"0.0\",\n        },\n{\n            'v': 0.0,\n            'f': \"0.0\",\n        },\n{\n            'v': 0.0,\n            'f': \"0.0\",\n        }],\n [\"25%\",\n{\n            'v': 3476762.5,\n            'f': \"3476762.5\",\n        },\n{\n            'v': 1.0,\n            'f': \"1.0\",\n        },\n{\n            'v': 0.0,\n            'f': \"0.0\",\n        },\n{\n            'v': 0.0,\n            'f': \"0.0\",\n        },\n{\n            'v': 0.0,\n            'f': \"0.0\",\n        }],\n [\"50%\",\n{\n            'v': 6498795.0,\n            'f': \"6498795.0\",\n        },\n{\n            'v': 1.0,\n            'f': \"1.0\",\n        },\n{\n            'v': 0.0,\n            'f': \"0.0\",\n        },\n{\n            'v': 0.0,\n            'f': \"0.0\",\n        },\n{\n            'v': 0.0,\n            'f': \"0.0\",\n        }],\n [\"75%\",\n{\n            'v': 9453667.5,\n            'f': \"9453667.5\",\n        },\n{\n            'v': 11.0,\n            'f': \"11.0\",\n        },\n{\n            'v': 0.0,\n            'f': \"0.0\",\n        },\n{\n            'v': 0.0,\n            'f': \"0.0\",\n        },\n{\n            'v': 3.0,\n            'f': \"3.0\",\n        }],\n [\"max\",\n{\n            'v': 12425244.0,\n            'f': \"12425244.0\",\n        },\n{\n            'v': 20790.0,\n            'f': \"20790.0\",\n        },\n{\n            'v': 1977.0,\n            'f': \"1977.0\",\n        },\n{\n            'v': 240.0,\n            'f': \"240.0\",\n        },\n{\n            'v': 2294.0,\n            'f': \"2294.0\",\n        }]],\n        columns: [[\"string\", \"index\"], [\"number\", \"id\"], [\"number\", \"reputation\"], [\"number\", \"up_votes\"], [\"number\", \"down_votes\"], [\"number\", \"views\"]],\n        columnOptions: [{\"width\": \"1px\", \"className\": \"index_column\"}],\n        rowsPerPage: 25,\n        helpUrl: \"https://colab.research.google.com/notebooks/data_table.ipynb\",\n        suppressOutputScrolling: false,\n      });\n    ",
            "text/html": [
              "<div>\n",
              "<style scoped>\n",
              "    .dataframe tbody tr th:only-of-type {\n",
              "        vertical-align: middle;\n",
              "    }\n",
              "\n",
              "    .dataframe tbody tr th {\n",
              "        vertical-align: top;\n",
              "    }\n",
              "\n",
              "    .dataframe thead th {\n",
              "        text-align: right;\n",
              "    }\n",
              "</style>\n",
              "<table border=\"1\" class=\"dataframe\">\n",
              "  <thead>\n",
              "    <tr style=\"text-align: right;\">\n",
              "      <th></th>\n",
              "      <th>id</th>\n",
              "      <th>reputation</th>\n",
              "      <th>up_votes</th>\n",
              "      <th>down_votes</th>\n",
              "      <th>views</th>\n",
              "    </tr>\n",
              "  </thead>\n",
              "  <tbody>\n",
              "    <tr>\n",
              "      <th>count</th>\n",
              "      <td>2.014000e+03</td>\n",
              "      <td>2014.000000</td>\n",
              "      <td>2014.000000</td>\n",
              "      <td>2014.000000</td>\n",
              "      <td>2014.000000</td>\n",
              "    </tr>\n",
              "    <tr>\n",
              "      <th>mean</th>\n",
              "      <td>6.480823e+06</td>\n",
              "      <td>100.773088</td>\n",
              "      <td>10.316286</td>\n",
              "      <td>0.405164</td>\n",
              "      <td>11.658888</td>\n",
              "    </tr>\n",
              "    <tr>\n",
              "      <th>std</th>\n",
              "      <td>3.463126e+06</td>\n",
              "      <td>820.541656</td>\n",
              "      <td>86.135879</td>\n",
              "      <td>6.008662</td>\n",
              "      <td>92.213657</td>\n",
              "    </tr>\n",
              "    <tr>\n",
              "      <th>min</th>\n",
              "      <td>1.152600e+04</td>\n",
              "      <td>1.000000</td>\n",
              "      <td>0.000000</td>\n",
              "      <td>0.000000</td>\n",
              "      <td>0.000000</td>\n",
              "    </tr>\n",
              "    <tr>\n",
              "      <th>25%</th>\n",
              "      <td>3.476762e+06</td>\n",
              "      <td>1.000000</td>\n",
              "      <td>0.000000</td>\n",
              "      <td>0.000000</td>\n",
              "      <td>0.000000</td>\n",
              "    </tr>\n",
              "    <tr>\n",
              "      <th>50%</th>\n",
              "      <td>6.498795e+06</td>\n",
              "      <td>1.000000</td>\n",
              "      <td>0.000000</td>\n",
              "      <td>0.000000</td>\n",
              "      <td>0.000000</td>\n",
              "    </tr>\n",
              "    <tr>\n",
              "      <th>75%</th>\n",
              "      <td>9.453668e+06</td>\n",
              "      <td>11.000000</td>\n",
              "      <td>0.000000</td>\n",
              "      <td>0.000000</td>\n",
              "      <td>3.000000</td>\n",
              "    </tr>\n",
              "    <tr>\n",
              "      <th>max</th>\n",
              "      <td>1.242524e+07</td>\n",
              "      <td>20790.000000</td>\n",
              "      <td>1977.000000</td>\n",
              "      <td>240.000000</td>\n",
              "      <td>2294.000000</td>\n",
              "    </tr>\n",
              "  </tbody>\n",
              "</table>\n",
              "</div>"
            ],
            "text/plain": [
              "                 id    reputation     up_votes   down_votes        views\n",
              "count  2.014000e+03   2014.000000  2014.000000  2014.000000  2014.000000\n",
              "mean   6.480823e+06    100.773088    10.316286     0.405164    11.658888\n",
              "std    3.463126e+06    820.541656    86.135879     6.008662    92.213657\n",
              "min    1.152600e+04      1.000000     0.000000     0.000000     0.000000\n",
              "25%    3.476762e+06      1.000000     0.000000     0.000000     0.000000\n",
              "50%    6.498795e+06      1.000000     0.000000     0.000000     0.000000\n",
              "75%    9.453668e+06     11.000000     0.000000     0.000000     3.000000\n",
              "max    1.242524e+07  20790.000000  1977.000000   240.000000  2294.000000"
            ]
          },
          "metadata": {
            "tags": []
          },
          "execution_count": 35
        }
      ]
    },
    {
      "cell_type": "code",
      "metadata": {
        "id": "tmBQzuYxAfmq",
        "colab_type": "code",
        "colab": {}
      },
      "source": [
        "q_high_rep = \"SELECT * FROM `bigquery-public-data.stackoverflow.users` where reputation > 200000\"\n",
        "df_high_rep = pd.read_gbq(q_high_rep, project_id=project)"
      ],
      "execution_count": 0,
      "outputs": []
    },
    {
      "cell_type": "code",
      "metadata": {
        "id": "PYP2yhhGNFPG",
        "colab_type": "code",
        "colab": {
          "base_uri": "https://localhost:8080/",
          "height": 257
        },
        "outputId": "3721f07c-f7e8-4636-9baa-866f77327301"
      },
      "source": [
        "df_high_rep.describe()"
      ],
      "execution_count": 41,
      "outputs": [
        {
          "output_type": "execute_result",
          "data": {
            "application/vnd.google.colaboratory.module+javascript": "\n      import \"https://ssl.gstatic.com/colaboratory/data_table/84ef27dae82052e3/data_table.js\";\n\n      window.createDataTable({\n        data: [[\"count\",\n{\n            'v': 258.0,\n            'f': \"258.0\",\n        },\n{\n            'v': 258.0,\n            'f': \"258.0\",\n        },\n{\n            'v': 258.0,\n            'f': \"258.0\",\n        },\n{\n            'v': 258.0,\n            'f': \"258.0\",\n        },\n{\n            'v': 258.0,\n            'f': \"258.0\",\n        }],\n [\"mean\",\n{\n            'v': 344045.5232558139,\n            'f': \"344045.5232558139\",\n        },\n{\n            'v': 345854.18217054266,\n            'f': \"345854.18217054266\",\n        },\n{\n            'v': 7177.403100775194,\n            'f': \"7177.403100775194\",\n        },\n{\n            'v': 4220.616279069767,\n            'f': \"4220.616279069767\",\n        },\n{\n            'v': 51974.558139534885,\n            'f': \"51974.558139534885\",\n        }],\n [\"std\",\n{\n            'v': 590350.0081924701,\n            'f': \"590350.0081924701\",\n        },\n{\n            'v': 161595.74435833836,\n            'f': \"161595.74435833836\",\n        },\n{\n            'v': 6459.920399238986,\n            'f': \"6459.920399238986\",\n        },\n{\n            'v': 9670.794217927127,\n            'f': \"9670.794217927127\",\n        },\n{\n            'v': 127014.039807175,\n            'f': \"127014.039807175\",\n        }],\n [\"min\",\n{\n            'v': 116.0,\n            'f': \"116.0\",\n        },\n{\n            'v': 200102.0,\n            'f': \"200102.0\",\n        },\n{\n            'v': 2.0,\n            'f': \"2.0\",\n        },\n{\n            'v': 0.0,\n            'f': \"0.0\",\n        },\n{\n            'v': 3640.0,\n            'f': \"3640.0\",\n        }],\n [\"25%\",\n{\n            'v': 29973.0,\n            'f': \"29973.0\",\n        },\n{\n            'v': 231664.5,\n            'f': \"231664.5\",\n        },\n{\n            'v': 2931.0,\n            'f': \"2931.0\",\n        },\n{\n            'v': 241.75,\n            'f': \"241.75\",\n        },\n{\n            'v': 17575.75,\n            'f': \"17575.75\",\n        }],\n [\"50%\",\n{\n            'v': 113839.0,\n            'f': \"113839.0\",\n        },\n{\n            'v': 289971.0,\n            'f': \"289971.0\",\n        },\n{\n            'v': 5329.0,\n            'f': \"5329.0\",\n        },\n{\n            'v': 823.5,\n            'f': \"823.5\",\n        },\n{\n            'v': 27736.0,\n            'f': \"27736.0\",\n        }],\n [\"75%\",\n{\n            'v': 411380.0,\n            'f': \"411380.0\",\n        },\n{\n            'v': 390485.75,\n            'f': \"390485.75\",\n        },\n{\n            'v': 9710.0,\n            'f': \"9710.0\",\n        },\n{\n            'v': 2888.25,\n            'f': \"2888.25\",\n        },\n{\n            'v': 48499.5,\n            'f': \"48499.5\",\n        }],\n [\"max\",\n{\n            'v': 3832970.0,\n            'f': \"3832970.0\",\n        },\n{\n            'v': 1147559.0,\n            'f': \"1147559.0\",\n        },\n{\n            'v': 51729.0,\n            'f': \"51729.0\",\n        },\n{\n            'v': 67325.0,\n            'f': \"67325.0\",\n        },\n{\n            'v': 1876166.0,\n            'f': \"1876166.0\",\n        }]],\n        columns: [[\"string\", \"index\"], [\"number\", \"id\"], [\"number\", \"reputation\"], [\"number\", \"up_votes\"], [\"number\", \"down_votes\"], [\"number\", \"views\"]],\n        columnOptions: [{\"width\": \"1px\", \"className\": \"index_column\"}],\n        rowsPerPage: 25,\n        helpUrl: \"https://colab.research.google.com/notebooks/data_table.ipynb\",\n        suppressOutputScrolling: false,\n      });\n    ",
            "text/html": [
              "<div>\n",
              "<style scoped>\n",
              "    .dataframe tbody tr th:only-of-type {\n",
              "        vertical-align: middle;\n",
              "    }\n",
              "\n",
              "    .dataframe tbody tr th {\n",
              "        vertical-align: top;\n",
              "    }\n",
              "\n",
              "    .dataframe thead th {\n",
              "        text-align: right;\n",
              "    }\n",
              "</style>\n",
              "<table border=\"1\" class=\"dataframe\">\n",
              "  <thead>\n",
              "    <tr style=\"text-align: right;\">\n",
              "      <th></th>\n",
              "      <th>id</th>\n",
              "      <th>reputation</th>\n",
              "      <th>up_votes</th>\n",
              "      <th>down_votes</th>\n",
              "      <th>views</th>\n",
              "    </tr>\n",
              "  </thead>\n",
              "  <tbody>\n",
              "    <tr>\n",
              "      <th>count</th>\n",
              "      <td>2.580000e+02</td>\n",
              "      <td>2.580000e+02</td>\n",
              "      <td>258.000000</td>\n",
              "      <td>258.000000</td>\n",
              "      <td>2.580000e+02</td>\n",
              "    </tr>\n",
              "    <tr>\n",
              "      <th>mean</th>\n",
              "      <td>3.440455e+05</td>\n",
              "      <td>3.458542e+05</td>\n",
              "      <td>7177.403101</td>\n",
              "      <td>4220.616279</td>\n",
              "      <td>5.197456e+04</td>\n",
              "    </tr>\n",
              "    <tr>\n",
              "      <th>std</th>\n",
              "      <td>5.903500e+05</td>\n",
              "      <td>1.615957e+05</td>\n",
              "      <td>6459.920399</td>\n",
              "      <td>9670.794218</td>\n",
              "      <td>1.270140e+05</td>\n",
              "    </tr>\n",
              "    <tr>\n",
              "      <th>min</th>\n",
              "      <td>1.160000e+02</td>\n",
              "      <td>2.001020e+05</td>\n",
              "      <td>2.000000</td>\n",
              "      <td>0.000000</td>\n",
              "      <td>3.640000e+03</td>\n",
              "    </tr>\n",
              "    <tr>\n",
              "      <th>25%</th>\n",
              "      <td>2.997300e+04</td>\n",
              "      <td>2.316645e+05</td>\n",
              "      <td>2931.000000</td>\n",
              "      <td>241.750000</td>\n",
              "      <td>1.757575e+04</td>\n",
              "    </tr>\n",
              "    <tr>\n",
              "      <th>50%</th>\n",
              "      <td>1.138390e+05</td>\n",
              "      <td>2.899710e+05</td>\n",
              "      <td>5329.000000</td>\n",
              "      <td>823.500000</td>\n",
              "      <td>2.773600e+04</td>\n",
              "    </tr>\n",
              "    <tr>\n",
              "      <th>75%</th>\n",
              "      <td>4.113800e+05</td>\n",
              "      <td>3.904858e+05</td>\n",
              "      <td>9710.000000</td>\n",
              "      <td>2888.250000</td>\n",
              "      <td>4.849950e+04</td>\n",
              "    </tr>\n",
              "    <tr>\n",
              "      <th>max</th>\n",
              "      <td>3.832970e+06</td>\n",
              "      <td>1.147559e+06</td>\n",
              "      <td>51729.000000</td>\n",
              "      <td>67325.000000</td>\n",
              "      <td>1.876166e+06</td>\n",
              "    </tr>\n",
              "  </tbody>\n",
              "</table>\n",
              "</div>"
            ],
            "text/plain": [
              "                 id    reputation      up_votes    down_votes         views\n",
              "count  2.580000e+02  2.580000e+02    258.000000    258.000000  2.580000e+02\n",
              "mean   3.440455e+05  3.458542e+05   7177.403101   4220.616279  5.197456e+04\n",
              "std    5.903500e+05  1.615957e+05   6459.920399   9670.794218  1.270140e+05\n",
              "min    1.160000e+02  2.001020e+05      2.000000      0.000000  3.640000e+03\n",
              "25%    2.997300e+04  2.316645e+05   2931.000000    241.750000  1.757575e+04\n",
              "50%    1.138390e+05  2.899710e+05   5329.000000    823.500000  2.773600e+04\n",
              "75%    4.113800e+05  3.904858e+05   9710.000000   2888.250000  4.849950e+04\n",
              "max    3.832970e+06  1.147559e+06  51729.000000  67325.000000  1.876166e+06"
            ]
          },
          "metadata": {
            "tags": []
          },
          "execution_count": 41
        }
      ]
    },
    {
      "cell_type": "code",
      "metadata": {
        "id": "A60-r2ZpNMdF",
        "colab_type": "code",
        "colab": {
          "base_uri": "https://localhost:8080/",
          "height": 283
        },
        "outputId": "64916038-a884-4537-b54b-f15c8db30b38"
      },
      "source": [
        "df_high_rep['reputation'].hist(bins=5)"
      ],
      "execution_count": 44,
      "outputs": [
        {
          "output_type": "execute_result",
          "data": {
            "text/plain": [
              "<matplotlib.axes._subplots.AxesSubplot at 0x7f6588c3a048>"
            ]
          },
          "metadata": {
            "tags": []
          },
          "execution_count": 44
        },
        {
          "output_type": "display_data",
          "data": {
            "image/png": "[encoded data removed]",
            "text/plain": [
              "<Figure size 432x288 with 1 Axes>"
            ]
          },
          "metadata": {
            "tags": []
          }
        }
      ]
    },
    {
      "cell_type": "code",
      "metadata": {
        "id": "KWlXHE9xNfHj",
        "colab_type": "code",
        "colab": {}
      },
      "source": [
        ""
      ],
      "execution_count": 0,
      "outputs": []
    }
  ]
}